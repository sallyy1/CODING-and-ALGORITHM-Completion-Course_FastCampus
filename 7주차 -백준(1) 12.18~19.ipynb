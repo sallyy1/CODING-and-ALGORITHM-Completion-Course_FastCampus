{
 "cells": [
  {
   "cell_type": "markdown",
   "metadata": {},
   "source": [
    "# 백준 2920번: 음계"
   ]
  },
  {
   "cell_type": "code",
   "execution_count": null,
   "metadata": {},
   "outputs": [],
   "source": [
    "# 첫 시도\n",
    "input_list = list(map(int, input().split(' ')))\n",
    "da_list = [1, 2, 3, 4, 5, 6, 7, 8]\n",
    "\n",
    "if input_list == da_list:\n",
    "    print('ascending')\n",
    "\n",
    "elif input_list == da_list.reverse():\n",
    "    print('descending')\n",
    "\n",
    "else:\n",
    "    print('mixed')"
   ]
  },
  {
   "cell_type": "code",
   "execution_count": null,
   "metadata": {},
   "outputs": [],
   "source": [
    "# 답\n",
    "a = list(map(int, input().split(' ')))\n",
    "      \n",
    "ascending = True\n",
    "descending = True\n",
    "\n",
    "for i in range(1, 8):\n",
    "    if a[i-1] < a[i]:\n",
    "         descending = False\n",
    "    elif a[i-1] > a[i]:\n",
    "         ascending = False\n",
    "         \n",
    "         \n",
    "if ascending: # True\n",
    "    print('ascending')\n",
    "\n",
    "elif descending:\n",
    "    print('descending')\n",
    "\n",
    "else:\n",
    "    print('mixed')"
   ]
  },
  {
   "cell_type": "markdown",
   "metadata": {},
   "source": [
    "# 백준 2798번: 블랙잭"
   ]
  },
  {
   "cell_type": "code",
   "execution_count": 19,
   "metadata": {},
   "outputs": [],
   "source": [
    "N, M = 10, 500\n",
    "cards_list = [93, 181, 245, 214, 315, 36, 185, 138, 216, 295]"
   ]
  },
  {
   "cell_type": "code",
   "execution_count": 20,
   "metadata": {
    "scrolled": true
   },
   "outputs": [
    {
     "name": "stdout",
     "output_type": "stream",
     "text": [
      "1번+2번의 합: 610\n",
      "855\n",
      "826\n",
      "824\n",
      "795\n",
      "791\n",
      "748\n",
      "703\n",
      "646\n",
      "1번+2번의 합: 560\n",
      "776\n",
      "774\n",
      "745\n",
      "741\n",
      "698\n",
      "653\n",
      "596\n",
      "1번+2번의 합: 531\n",
      "745\n",
      "716\n",
      "712\n",
      "669\n",
      "624\n",
      "567\n",
      "1번+2번의 합: 529\n",
      "714\n",
      "710\n",
      "667\n",
      "622\n",
      "565\n",
      "1번+2번의 합: 500\n",
      "681\n",
      "638\n",
      "593\n",
      "536\n",
      "1번+2번의 합: 496\n",
      "634\n",
      "589\n",
      "532\n",
      "1번+2번의 합: 453\n",
      "546\n"
     ]
    },
    {
     "data": {
      "text/plain": [
       "489"
      ]
     },
     "execution_count": 20,
     "metadata": {},
     "output_type": "execute_result"
    }
   ],
   "source": [
    "# 첫 시도\n",
    "\n",
    "#a = list(map(int, input().split(' '))) # 첫째 줄\n",
    "#N, M = a[0], a[1]\n",
    "\n",
    "#cards_list = list(map(int, input().split(' '))) # 둘째 줄\n",
    "\n",
    "cards_list.sort(reverse=True) # 큰 수 부터 정렬\n",
    "\n",
    "\n",
    "def solution(N, M, cards_list):\n",
    "    sum = 0\n",
    "    \n",
    "    for idx1 in range(0, N-2):\n",
    "        for idx2 in range(idx1+1, N-1):\n",
    "            sum = (cards_list[idx1] + cards_list[idx2])\n",
    "            print('1번+2번의 합: '+str(sum))\n",
    "\n",
    "            for idx3 in range(idx2+1, N):\n",
    "                if sum + cards_list[idx3] > M:\n",
    "                    print(sum + cards_list[idx3])\n",
    "                    continue\n",
    "                else:\n",
    "                    sum += cards_list[idx3]\n",
    "                    return sum\n",
    "                \n",
    "solution(N, M, cards_list)\n",
    "\n",
    "# (실패)틀린 예제case 존재\n",
    "# case 2: 497이 답인데 489 출력"
   ]
  },
  {
   "cell_type": "code",
   "execution_count": null,
   "metadata": {},
   "outputs": [],
   "source": [
    "# 수정 답안\n",
    "\n",
    "N, M = list(map(int, input().split(' '))) # 첫째 줄\n",
    "cards_list = list(map(int, input().split(' '))) # 둘째 줄\n",
    "\n",
    "#cards_list.sort(reverse=True) # 큰 수 부터 정렬      ##완전탐색이므로 내림차순 정렬 안해도 됨(?)\n",
    "\n",
    "\n",
    "result = 0\n",
    "sum = 0\n",
    "\n",
    "## 3중 반복문 => 모든 경우의 수 계산 가능\n",
    "for idx1 in range(0, N-2):\n",
    "    for idx2 in range(idx1+1, N-1):\n",
    "        for idx3 in range(idx2+1, N):\n",
    "            sum = cards_list[idx1] + cards_list[idx2] + cards_list[idx3]\n",
    "            if sum <= M:\n",
    "                result = max(result, sum) # result & max() 활용\n",
    "                \n",
    "print(result)\n",
    "\n"
   ]
  },
  {
   "cell_type": "markdown",
   "metadata": {},
   "source": [
    "# 백준 10930번: SHA-256"
   ]
  },
  {
   "cell_type": "code",
   "execution_count": null,
   "metadata": {},
   "outputs": [],
   "source": [
    "# 첫시도 (성공)\n",
    "s = input() # 문자열 입력 받은 것 그대로 사용\n",
    "\n",
    "import hashlib\n",
    "\n",
    "HASH_NAME = \"sha256\"\n",
    "\n",
    "text = s.encode('utf-8')\n",
    "sha256 = hashlib.new(HASH_NAME)\n",
    "sha256.update(text)\n",
    "result = sha256.hexdigest()\n",
    "\n",
    "print(result)"
   ]
  },
  {
   "cell_type": "markdown",
   "metadata": {},
   "source": [
    "## 원리\n",
    "1. hashlib의 sha256 함수를 이용하면 SHA 256 해시를 구할 수 있다.\n",
    "2. hashlib.sha256(문자열의 바이트 객체).hexdigest() : 해시 결과 문자열"
   ]
  },
  {
   "cell_type": "code",
   "execution_count": null,
   "metadata": {},
   "outputs": [],
   "source": [
    "# 답\n",
    "import hashlib # hashlib 활용\n",
    "\n",
    "input_data = input()\n",
    "\n",
    "encoded_data = input_data.encode() # encode() 함수  -> 입력받은 문자열의 byte 객체를 구함\n",
    "result = hashlib.sha256(encoded_data).hexdigest() # hashlib.sha256(encoded_data) -> 하나의 해시 객체 생성 # hexdigest() 함수 -> 해시 결과 문자열\n",
    "print(result)"
   ]
  },
  {
   "cell_type": "markdown",
   "metadata": {},
   "source": [
    "# 백준 1920번: 수 찾기"
   ]
  },
  {
   "cell_type": "code",
   "execution_count": null,
   "metadata": {},
   "outputs": [],
   "source": [
    "# 첫 시도 (시간 초과)\n",
    "N = int(input())\n",
    "a = list(map(int, input().split(' ')))\n",
    "\n",
    "M = int(input())\n",
    "b = list(map(int, input().split(' ')))\n",
    "\n",
    "\n",
    "for elem_b in b:\n",
    "    for elem_a in a:\n",
    "        if elem_b == elem_a:\n",
    "            print(1)\n",
    "    else: # for-else\n",
    "        print(0)"
   ]
  },
  {
   "cell_type": "code",
   "execution_count": null,
   "metadata": {},
   "outputs": [],
   "source": [
    "# 두 번째 시도 (시간 초과)\n",
    "N = int(input())\n",
    "a = list(map(int, input().split(' ')))\n",
    "\n",
    "M = int(input())\n",
    "b = list(map(int, input().split(' ')))\n",
    "\n",
    "\n",
    "for elem_b in b:\n",
    "    if elem_b in a:\n",
    "        print(1)\n",
    "    else: # for-else\n",
    "        print(0)"
   ]
  },
  {
   "cell_type": "code",
   "execution_count": 23,
   "metadata": {},
   "outputs": [],
   "source": [
    "N = 5\n",
    "a = {4, 1, 5, 2, 3}\n",
    "\n",
    "M = 5\n",
    "b = [1, 3, 7, 9, 5]"
   ]
  },
  {
   "cell_type": "code",
   "execution_count": 24,
   "metadata": {
    "scrolled": true
   },
   "outputs": [
    {
     "name": "stdout",
     "output_type": "stream",
     "text": [
      "1\n",
      "3\n",
      "7\n",
      "9\n",
      "5\n"
     ]
    }
   ],
   "source": [
    "for elem_b in b:\n",
    "    print(elem_b)"
   ]
  },
  {
   "cell_type": "code",
   "execution_count": 1,
   "metadata": {},
   "outputs": [
    {
     "name": "stdout",
     "output_type": "stream",
     "text": [
      "5\n",
      "4 1 5 2 3\n",
      "5\n",
      "1 3 7 9 5\n",
      "1\n",
      "1\n",
      "0\n",
      "0\n",
      "1\n"
     ]
    }
   ],
   "source": [
    "# 수정 답안\n",
    "N = int(input())\n",
    "a = set(map(int, input().split(' '))) # 파이썬 내 'set'을 활용하면 빠른 검색 가능(해시형 자료구조)\n",
    "\n",
    "M = int(input())\n",
    "b = list(map(int, input().split(' '))) # B 배열은 주어진 순서를 지켜야함\n",
    "\n",
    "\n",
    "for elem_b in b:\n",
    "    if elem_b in a:\n",
    "        print('1')\n",
    "    else: # for-else\n",
    "        print('0')"
   ]
  },
  {
   "cell_type": "code",
   "execution_count": null,
   "metadata": {},
   "outputs": [],
   "source": []
  }
 ],
 "metadata": {
  "kernelspec": {
   "display_name": "Python 3",
   "language": "python",
   "name": "python3"
  },
  "language_info": {
   "codemirror_mode": {
    "name": "ipython",
    "version": 3
   },
   "file_extension": ".py",
   "mimetype": "text/x-python",
   "name": "python",
   "nbconvert_exporter": "python",
   "pygments_lexer": "ipython3",
   "version": "3.8.3"
  }
 },
 "nbformat": 4,
 "nbformat_minor": 4
}
