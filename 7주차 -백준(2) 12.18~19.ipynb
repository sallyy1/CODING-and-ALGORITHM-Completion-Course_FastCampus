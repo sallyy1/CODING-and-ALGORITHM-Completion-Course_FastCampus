{
 "cells": [
  {
   "cell_type": "markdown",
   "metadata": {},
   "source": [
    "# 백준 4195번: 친구 네트워크"
   ]
  },
  {
   "cell_type": "markdown",
   "metadata": {},
   "source": [
    "# 원리\n",
    "1. 해시를 활용한 Union-Find 알고리즘(=합집합 찾기)을 이용해 문제를 풀 수 있다.\n",
    "2. Python에서는 dictionary 자료형을 해시처럼 사용할 수 있다"
   ]
  },
  {
   "cell_type": "code",
   "execution_count": 29,
   "metadata": {},
   "outputs": [
    {
     "name": "stdout",
     "output_type": "stream",
     "text": [
      "2 2 3 2 "
     ]
    }
   ],
   "source": [
    "# 합 집합 찾기(Union-Find) 알고리즘\n",
    "\n",
    "# 1. find 함수 : 자신이 가리키는 부모 Node를 재귀적으로 찾는 함수\n",
    "def find(x):\n",
    "    if x == parent[x]:\n",
    "        return x\n",
    "    else:\n",
    "        p = find(parent[x])\n",
    "        parent[x] = p\n",
    "        return parent[x]\n",
    "\n",
    "\n",
    "# 2. union 함수 : 더 작은 원소(오른쪽 원소)를 부모 값으로 설정\n",
    "def union(x, y):\n",
    "    x = find(x)\n",
    "    y = find(y)\n",
    "    \n",
    "    parent[y] = x\n",
    "    \n",
    "    \n",
    "\n",
    "parent = [] # 리스트 or 딕셔너리\n",
    "\n",
    "for i in range(0, 5):\n",
    "    parent.append(i)\n",
    "    \n",
    "union(1,4)\n",
    "union(2,4)\n",
    "\n",
    "for i in range(1, len(parent)):\n",
    "    print(find(i), end = ' ')\n"
   ]
  },
  {
   "cell_type": "code",
   "execution_count": 30,
   "metadata": {},
   "outputs": [
    {
     "name": "stdout",
     "output_type": "stream",
     "text": [
      "2\n",
      "3\n",
      "Fred Barney\n",
      "2\n",
      "Barney Betty\n",
      "3\n",
      "Betty Wilma\n",
      "4\n",
      "3\n",
      "Fred Barney\n",
      "2\n",
      "Betty Wilma\n",
      "2\n",
      "Barney Betty\n",
      "4\n"
     ]
    }
   ],
   "source": [
    "# 정답 답안\n",
    "\n",
    "# 1. find 함수 : 자신이 가리키는 부모 Node를 재귀적으로 찾는 함수\n",
    "def find(x):\n",
    "    if x == parent[x]:\n",
    "        return x\n",
    "    else:\n",
    "        p = find(parent[x])\n",
    "        parent[x] = p\n",
    "        return parent[x]\n",
    "\n",
    "\n",
    "# 2. union 함수 : 더 작은 원소(오른쪽 원소)를 부모 값으로 설정\n",
    "def union(x, y):\n",
    "    x = find(x)\n",
    "    y = find(y)\n",
    "    \n",
    "    if x != y:\n",
    "        parent[y] = x\n",
    "        number[x] += number[y] # 이전 number의 값을 이관받기 # number: 친구 네트워크의 크기\n",
    "        \n",
    "        \n",
    "\n",
    "test_case = int(input())\n",
    "\n",
    "for _ in range(test_case): # 테스트케이스 만큼 반복\n",
    "    parent = dict() # 테케 마다 초기화\n",
    "    number = dict() # 문자열의 경우, list보다 dictionary가 효과적\n",
    "    \n",
    "    f = int(input()) # 해당 테케의 친구 관계 수\n",
    "    \n",
    "    for _ in range(f):\n",
    "        x, y = input().split(' ')\n",
    "        \n",
    "        # 기존에 없다면, 해당 친구 새로 만들어주기\n",
    "        if x not in parent:\n",
    "            parent[x] = x\n",
    "            number[x] = 1 \n",
    "            \n",
    "        if y not in parent:\n",
    "            parent[y] = y\n",
    "            number[y] = 1\n",
    "            \n",
    "        # 있다면, 합집합 찾기 수행    \n",
    "        union(x, y)\n",
    "        print(number[find(x)])"
   ]
  },
  {
   "cell_type": "markdown",
   "metadata": {},
   "source": [
    "# 백준 2750번: 수 정렬하기"
   ]
  },
  {
   "cell_type": "code",
   "execution_count": null,
   "metadata": {},
   "outputs": [],
   "source": [
    "# 첫 시도 (성공) <- 2) 파이썬 기본 라이브러리 활용 (108ms초)\n",
    "input_list = []\n",
    "\n",
    "N = int(input())\n",
    "\n",
    "# 리스트에 담기\n",
    "for _ in range(N):\n",
    "    input_list.append(int(input()))\n",
    "\n",
    "# 기본 정렬\n",
    "input_list.sort()\n",
    "\n",
    "# 리스트 각 요소 출력하기\n",
    "for idx in range(N):\n",
    "    print(input_list[idx])"
   ]
  },
  {
   "cell_type": "markdown",
   "metadata": {},
   "source": [
    "# 풀이법\n",
    "- 1) 선택 정렬 알고리즘으로 문제해결하기 -> 시간복잡도: O(n^2)\n",
    "- 2) 파이썬의 기본 정렬 라이브러리로 문제해결하기 -> 시간복잡도: O(n log(n))"
   ]
  },
  {
   "cell_type": "code",
   "execution_count": null,
   "metadata": {},
   "outputs": [],
   "source": [
    "# 1) 선택 정렬 알고리즘 활용 (140ms)\n",
    "\n",
    "n = int(input())\n",
    "array = list()\n",
    "\n",
    "for _ in range(n):\n",
    "    array.append(int(input()))\n",
    "    \n",
    "    \n",
    "# 선택 정렬    \n",
    "for i in range(n):\n",
    "    min_index = i # 매번 index 재설정\n",
    "    \n",
    "    for j in range(i+1, n):\n",
    "        if array[min_index] > array[j]: # 지금 값이 더 작다면\n",
    "            min_index = j # index 값 치환\n",
    "        array[i], array[min_index] = array[min_index], array[i] # swap\n",
    "\n",
    "        \n",
    "for elem in array:\n",
    "    print(elem)"
   ]
  },
  {
   "cell_type": "code",
   "execution_count": null,
   "metadata": {},
   "outputs": [],
   "source": []
  },
  {
   "cell_type": "markdown",
   "metadata": {},
   "source": [
    "# 백준 1427번: 소트인사이드"
   ]
  },
  {
   "cell_type": "code",
   "execution_count": 43,
   "metadata": {},
   "outputs": [
    {
     "name": "stdout",
     "output_type": "stream",
     "text": [
      "2143\n",
      "4321\n"
     ]
    }
   ],
   "source": [
    "# 첫 시도 (성공) - 72ms\n",
    "\n",
    "N = int(input())\n",
    "\n",
    "N_string = str(N)\n",
    "length = len(N_string)\n",
    "\n",
    "N_array = []\n",
    "for elem in N_string:\n",
    "    N_array.append(int(elem))\n",
    "\n",
    "\n",
    "    \n",
    "# 내림차순 정렬\n",
    "N_array.sort(reverse=True)\n",
    "\n",
    "\n",
    "answer = 0\n",
    "# 출력\n",
    "for idx in range(length):\n",
    "    answer += 10**(idx) * N_array[length-1-idx]\n",
    "    \n",
    "print(answer)"
   ]
  },
  {
   "cell_type": "code",
   "execution_count": 44,
   "metadata": {},
   "outputs": [
    {
     "name": "stdout",
     "output_type": "stream",
     "text": [
      "988297\n",
      "998872"
     ]
    }
   ],
   "source": [
    "# 정답 답안 - 68ms\n",
    "array = input() # String으로 input값 바로 읽어들임\n",
    "\n",
    "for i in range(9, -1, -1): # 9부터 0까지 반복 !\n",
    "    for j in array:\n",
    "        if int(j) == i:\n",
    "            print(i, end='') # 붙여서 문자열로 출력"
   ]
  },
  {
   "cell_type": "code",
   "execution_count": null,
   "metadata": {},
   "outputs": [],
   "source": []
  }
 ],
 "metadata": {
  "kernelspec": {
   "display_name": "Python 3",
   "language": "python",
   "name": "python3"
  },
  "language_info": {
   "codemirror_mode": {
    "name": "ipython",
    "version": 3
   },
   "file_extension": ".py",
   "mimetype": "text/x-python",
   "name": "python",
   "nbconvert_exporter": "python",
   "pygments_lexer": "ipython3",
   "version": "3.8.3"
  }
 },
 "nbformat": 4,
 "nbformat_minor": 4
}
