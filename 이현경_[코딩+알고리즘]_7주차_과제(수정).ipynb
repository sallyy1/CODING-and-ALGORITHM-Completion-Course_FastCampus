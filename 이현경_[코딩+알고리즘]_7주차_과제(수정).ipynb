{
  "nbformat": 4,
  "nbformat_minor": 0,
  "metadata": {
    "colab": {
      "name": "이현경 - [코딩+알고리즘] 7주차 과제(수정)",
      "provenance": [],
      "collapsed_sections": []
    },
    "kernelspec": {
      "display_name": "Python 3",
      "language": "python",
      "name": "python3"
    },
    "language_info": {
      "codemirror_mode": {
        "name": "ipython",
        "version": 3
      },
      "file_extension": ".py",
      "mimetype": "text/x-python",
      "name": "python",
      "nbconvert_exporter": "python",
      "pygments_lexer": "ipython3",
      "version": "3.8.5"
    }
  },
  "cells": [
    {
      "cell_type": "markdown",
      "metadata": {
        "id": "wS0WJ3F9SoRp"
      },
      "source": [
        "# 7주차 과제 공지사항\n",
        "\n",
        "----\n",
        "\n",
        "1. 아래의 과제를 보고 코드를 작성하시면 됩니다.\n",
        "2. 멘토님께서 과제에 대한 코드를 실행한 후에 정량적/정성적으로 평가가 됩니다.\n",
        "3. 멘토님께서는 과제평가에 대한 체크리스트를 작성한 뒤에 객관적으로 코드에 대한 평가를 할 예정입니다.\n",
        "4. 과제에 대한 점수는 100점 만점으로 진행이 됩니다.\n",
        "5. 퀴즈 및 과제에 대한 평가는 모든 수강생들의 평가가 완료되면 확인할 수 있습니다. 참고부탁드립니다.\n",
        "6. 퀴즈 및 과제기한은 12월 13일(일) 저녁 10시 까지 입니다. 10시 이후에는 코드작성이 불가하오니 이 점 참고부탁드립니다.\n",
        "7. 미션통과 대상자의 경우, 평균 8주차 말 / 9주차 초에 미션환급액이 입금이 될 예정입니다. 참고부탁드립니다.\n",
        "8. 반드시 코드 작성란에만 코드를 작성하시고, 그 외에는 절대로 내용을 수정하지 마세요.\n",
        "9. 작성란에 작성된 코드가 동작하는지 반드시 확인하세요. 코드가 동작하지 않으면 0점처리됩니다.\n",
        "10. 과제의 채점 시 입력은 달라질 수 있습니다. 다른 입력에도 동작할 수 있는 코드를 작성해 주세요.\n",
        "11. ***예시 입출력이 주어진 경우, 최소한 예시 입력에 대해 출력이 정상적으로 이루어져야 점수가 주어집니다. 예시 입력에 대해 동작시키는 것은 과제 제출의 최소 조건입니다.***\n",
        "12. ***예시 입력에 대해 출력이 정상적으로 되더라도, 코드의 내용이 적합하지 않은 경우 감점이 이루어집니다.***\n",
        "\n",
        "- 문제 출처\n",
        "  - 과제1, 4: Leetcode\n",
        "  - 과제3: 프로그래머스\n",
        "\n",
        "----"
      ]
    },
    {
      "cell_type": "markdown",
      "metadata": {
        "id": "O4MMgk1OTzmH"
      },
      "source": [
        "----\n",
        "\n",
        "## 종합 점수 (/100)\n",
        "\n",
        "----"
      ]
    },
    {
      "cell_type": "markdown",
      "metadata": {
        "id": "JoFcF8ljTR6p"
      },
      "source": [
        "## 과제1.\n",
        "\n",
        "----\n",
        "이진 탐색법은 정렬된 자료를 탐색하는 데에 사용할 수 있다. 인덱스가 낮을 수록 더 작은 값으로 정렬된 2차원 리스트에서 `target`을 찾으면 True를 반환하고, `target`을 찾을 수 없으면 False를 반환하는 프로그램을 작성하시오.\n",
        "\n",
        "예시 입력1\n",
        "```python\n",
        "matrix = [\n",
        "  [1,   3,  5,  7],\n",
        "  [10, 11, 16, 20],\n",
        "  [23, 30, 34, 50]\n",
        "]\n",
        "target = 3\n",
        "출력: True\n",
        "```\n",
        "\n",
        "예시 입력2\n",
        "```python\n",
        "matrix = [\n",
        "  [1,   3,  5,  7],\n",
        "  [10, 11, 16, 20],\n",
        "  [23, 30, 34, 50]\n",
        "]\n",
        "target = 13\n",
        "출력: False\n",
        "```\n",
        "\n",
        "```python\n",
        "def searchMatrix(matrix, target):\n",
        "    pass\n",
        "```\n",
        "----"
      ]
    },
    {
      "cell_type": "code",
      "metadata": {
        "id": "QijxlOUtAVcc"
      },
      "source": [
        "def searchMatrix(matrix, target):\n",
        "    # 진행 확인 (생략 가능)\n",
        "    print (matrix)\n",
        "    ##마지막에 남은 데이터(list)가 1개일 때\n",
        "    if len(matrix) == 1:\n",
        "      # 1. 찾는 데이터값이라면 -> True\n",
        "      for small_elem in matrix[0]:\n",
        "        if target == small_elem:\n",
        "          return True\n",
        "      # 2. 찾는 값이 끝까지 없다면 -> False\n",
        "      else:\n",
        "        return False\n",
        "\n",
        "    #(방어코드)\n",
        "    if len(matrix) == 0:\n",
        "        return False\n",
        "    \n",
        "    medium = len(matrix) // 2 #중간값 index 설정\n",
        "    # medium\n",
        "    for idx in range(len(matrix[medium])):\n",
        "      if target == matrix[medium][idx]:\n",
        "          return True\n",
        "    else:\n",
        "        # 뒤(right)\n",
        "        if target > matrix[medium][0]: #medium 배열의 첫 번째 값\n",
        "            return searchMatrix(matrix[medium:], target) #재귀함수 호출\n",
        "        # 앞(left)\n",
        "        else:\n",
        "            return searchMatrix(matrix[:medium], target) #재귀함수 호출"
      ],
      "execution_count": 3,
      "outputs": []
    },
    {
      "cell_type": "code",
      "metadata": {
        "colab": {
          "base_uri": "https://localhost:8080/"
        },
        "id": "tiClPFZ0Cfbe",
        "outputId": "40b958e0-3a32-48aa-a891-5ccd86b655a0"
      },
      "source": [
        "# 예시 1\n",
        "matrix = [\n",
        "  [1,   3,  5,  7],\n",
        "  [10, 11, 16, 20],\n",
        "  [23, 30, 34, 50]\n",
        "]\n",
        "target = 3\n",
        "#출력: True\n",
        "\n",
        "searchMatrix(matrix, target)"
      ],
      "execution_count": 4,
      "outputs": [
        {
          "output_type": "stream",
          "text": [
            "[[1, 3, 5, 7], [10, 11, 16, 20], [23, 30, 34, 50]]\n",
            "[[1, 3, 5, 7]]\n"
          ],
          "name": "stdout"
        },
        {
          "output_type": "execute_result",
          "data": {
            "text/plain": [
              "True"
            ]
          },
          "metadata": {
            "tags": []
          },
          "execution_count": 4
        }
      ]
    },
    {
      "cell_type": "code",
      "metadata": {
        "colab": {
          "base_uri": "https://localhost:8080/"
        },
        "id": "p0yYXm_TBdJF",
        "outputId": "cfeb330b-57b1-45e4-be0c-e160c98c7aa6"
      },
      "source": [
        "matrix = [\n",
        "  [1,   3,  5,  7],\n",
        "  [10, 11, 16, 20],\n",
        "  [23, 30, 34, 50]\n",
        "]\n",
        "target = 13\n",
        "#출력: False\n",
        "\n",
        "searchMatrix(matrix, target)"
      ],
      "execution_count": 5,
      "outputs": [
        {
          "output_type": "stream",
          "text": [
            "[[1, 3, 5, 7], [10, 11, 16, 20], [23, 30, 34, 50]]\n",
            "[[10, 11, 16, 20], [23, 30, 34, 50]]\n",
            "[[10, 11, 16, 20]]\n"
          ],
          "name": "stdout"
        },
        {
          "output_type": "execute_result",
          "data": {
            "text/plain": [
              "False"
            ]
          },
          "metadata": {
            "tags": []
          },
          "execution_count": 5
        }
      ]
    },
    {
      "cell_type": "markdown",
      "metadata": {
        "id": "jmayiflbYYW6"
      },
      "source": [
        "## 과제2.\n",
        "\n",
        "----\n",
        "두 문자열 A와 B가 있을 때, 두 문자열의 '최대공약문자열' C를 아래와 같이 정의하자.\n",
        "\n",
        "1. 문자열 C를 반복하여 문자열 A와 B를 생성할 수 있다.\n",
        "1. 가능한 C 중에 가장 긴 문자열을 C로 한다.\n",
        "1. 위 조건을 만족하는 C가 없으면 빈 문자열을 C로 한다.\n",
        "\n",
        "이 때, 문자열 A와 B를 입력받아 C를 출력하는 프로그램을 작성하시오.\n",
        "\n",
        "예시입력1\n",
        "```python\n",
        "A = 'ababcde'\n",
        "B = 'ababcde'\n",
        "출력: 'ababcde'\n",
        "```\n",
        "\n",
        "예시입력2\n",
        "```python\n",
        "A = 'ababababab'\n",
        "B = 'abab'\n",
        "출력: 'ab'\n",
        "```\n",
        "\n",
        "예시입력3\n",
        "```python\n",
        "A = 'abababab'\n",
        "B = 'abab'\n",
        "출력: 'abab'\n",
        "```\n",
        "\n",
        "예시입력3\n",
        "```python\n",
        "A = 'fast'\n",
        "B = 'campus'\n",
        "출력: ''\n",
        "```\n",
        "\n",
        "```python\n",
        "def gcdString(A, B):\n",
        "    pass\n",
        "```\n",
        "----"
      ]
    },
    {
      "cell_type": "code",
      "metadata": {
        "id": "vVgXz_wNOkUW"
      },
      "source": [
        ""
      ],
      "execution_count": null,
      "outputs": []
    },
    {
      "cell_type": "code",
      "metadata": {
        "id": "bmA6c6EMYY7o"
      },
      "source": [
        "# 과제 2번 코드란 (첫 시도)\n",
        "def gcdString(A, B):\n",
        "  # 짧은 문자열로 비교\n",
        "  if len(A) >= len(B): # B 갖고 비교\n",
        "    if B == A:\n",
        "      return B\n",
        "\n",
        "    # 1.\n",
        "    elif A[:len(A)//2] == A[len(A)//2:]:\n",
        "      return gcdString(A[:len(A)//2], B)\n",
        "\n",
        "\n",
        "    elif A[:len(A)//3] * 3 == A:\n",
        "        return gcdString(A[:len(A)//3], B)\n",
        "\n",
        "    elif A[:len(A)//5] * 5 == A:\n",
        "        return gcdString(A[:len(A)//5], B)\n",
        "\n",
        "      \n",
        "    # 2.\n",
        "    elif B[:len(B)//2] == B[len(B)//2:]:\n",
        "      return gcdString(A, B[:len(B)//2])\n",
        "\n",
        "    elif B[:len(B)//3] * 3 == B:\n",
        "        return gcdString(A, B[:len(B)//3])\n",
        "\n",
        "    elif B[:len(B)//5] * 5 == B:\n",
        "        return gcdString(A, B[:len(B)//3])\n",
        "\n",
        "\n",
        "    else:\n",
        "      return ''\n",
        "\n",
        "\n",
        "\n",
        "  else: # A 갖고 비교\n",
        "    if A == B:\n",
        "      return A\n",
        "\n",
        "    # 1.\n",
        "    elif B[:len(B)//2] == B[len(B)//2:]:\n",
        "      return gcdString(A, B[:len(B)//2])\n",
        "\n",
        "    elif B[:len(B)//3] * 3 == B:\n",
        "        return gcdString(A, B[:len(B)//3])\n",
        "\n",
        "    elif B[:len(B)//5] * 5 == B:\n",
        "        return gcdString(A, B[:len(B)//3])\n",
        "    \n",
        "    # 2.\n",
        "    elif A[:len(A)//2] == A[len(A)//2:]:\n",
        "      return gcdString(A[:len(A)//2], B)\n",
        "\n",
        "    elif A[:len(A)//3] * 3 == A:\n",
        "        return gcdString(A[:len(A)//3], B)\n",
        "\n",
        "    elif A[:len(A)//5] * 5 == A:\n",
        "        return gcdString(A[:len(A)//5], B)\n",
        "\n",
        "\n",
        "    else:\n",
        "      return ''\n",
        "\n",
        "\n",
        "\n",
        "\n",
        "\n",
        "\n",
        "\n"
      ],
      "execution_count": null,
      "outputs": []
    },
    {
      "cell_type": "code",
      "metadata": {
        "id": "JtodMctmOli5"
      },
      "source": [
        "# 과제 2번 코드란 (길이 줄임)\n",
        "def gcdString(a, b):\n",
        "  # 짧은 문자열로 비교\n",
        "\n",
        "  ## 초기화\n",
        "  if len(a) >= len(b):\n",
        "    A = a\n",
        "    B = b\n",
        "  else:\n",
        "    A = b\n",
        "    B = a\n",
        "\n",
        "\n",
        "  ## 알고리즘\n",
        "  if B == A:\n",
        "    return B\n",
        "\n",
        "  # 1. 긴 문자열\n",
        "  elif A[:len(A)//2] == A[len(A)//2:]:\n",
        "    return gcdString(A[:len(A)//2], B)\n",
        "\n",
        "\n",
        "  elif A[:len(A)//3] * 3 == A:\n",
        "      return gcdString(A[:len(A)//3], B)\n",
        "\n",
        "  elif A[:len(A)//5] * 5 == A:\n",
        "      return gcdString(A[:len(A)//5], B)\n",
        "\n",
        "    \n",
        "  # 2. 짧은 문자열\n",
        "  elif B[:len(B)//2] == B[len(B)//2:]:\n",
        "    return gcdString(A, B[:len(B)//2])\n",
        "\n",
        "  elif B[:len(B)//3] * 3 == B:\n",
        "      return gcdString(A, B[:len(B)//3])\n",
        "\n",
        "  elif B[:len(B)//5] * 5 == B:\n",
        "      return gcdString(A, B[:len(B)//3])\n",
        "\n",
        "\n",
        "  else:\n",
        "    return ''\n",
        "\n",
        "\n",
        "\n",
        "\n",
        "\n",
        "\n",
        "\n",
        "\n",
        "\n",
        "\n",
        "\n"
      ],
      "execution_count": null,
      "outputs": []
    },
    {
      "cell_type": "code",
      "metadata": {
        "colab": {
          "base_uri": "https://localhost:8080/",
          "height": 35
        },
        "id": "RP4pCrClHXi9",
        "outputId": "b34942aa-76e0-46da-8027-99ba3f282f94"
      },
      "source": [
        "# 예시 1\n",
        "A = 'ababcde'\n",
        "B = 'ababcde'\n",
        "#출력: 'ababcde'\n",
        "\n",
        "gcdString(A, B)"
      ],
      "execution_count": null,
      "outputs": [
        {
          "output_type": "execute_result",
          "data": {
            "application/vnd.google.colaboratory.intrinsic+json": {
              "type": "string"
            },
            "text/plain": [
              "'ababcde'"
            ]
          },
          "metadata": {
            "tags": []
          },
          "execution_count": 2
        }
      ]
    },
    {
      "cell_type": "code",
      "metadata": {
        "colab": {
          "base_uri": "https://localhost:8080/",
          "height": 35
        },
        "id": "TVv6qMISHYSQ",
        "outputId": "4ff34ba3-536a-4b3c-dbfa-8d4e3d4891bb"
      },
      "source": [
        "# 예시 2\n",
        "A = 'ababababab'\n",
        "B = 'abab'\n",
        "#출력: 'ab'\n",
        "\n",
        "gcdString(A, B)"
      ],
      "execution_count": null,
      "outputs": [
        {
          "output_type": "execute_result",
          "data": {
            "application/vnd.google.colaboratory.intrinsic+json": {
              "type": "string"
            },
            "text/plain": [
              "'ab'"
            ]
          },
          "metadata": {
            "tags": []
          },
          "execution_count": 3
        }
      ]
    },
    {
      "cell_type": "code",
      "metadata": {
        "colab": {
          "base_uri": "https://localhost:8080/",
          "height": 35
        },
        "id": "5KBLu7iOJa62",
        "outputId": "13a7f02b-7fc0-4328-e5b2-af7511775122"
      },
      "source": [
        "# 예시 3\n",
        "A = 'abababab'\n",
        "B = 'abab'\n",
        "#출력: 'abab'\n",
        "\n",
        "gcdString(A, B)"
      ],
      "execution_count": null,
      "outputs": [
        {
          "output_type": "execute_result",
          "data": {
            "application/vnd.google.colaboratory.intrinsic+json": {
              "type": "string"
            },
            "text/plain": [
              "'abab'"
            ]
          },
          "metadata": {
            "tags": []
          },
          "execution_count": 4
        }
      ]
    },
    {
      "cell_type": "code",
      "metadata": {
        "colab": {
          "base_uri": "https://localhost:8080/",
          "height": 35
        },
        "id": "En2yPSHuJg7o",
        "outputId": "7e28a141-7f9d-4fa4-eff3-9535d8f2bddb"
      },
      "source": [
        "# 예시 4\n",
        "A = 'fast'\n",
        "B = 'campus'\n",
        "#출력: ''\n",
        "\n",
        "gcdString(A, B)"
      ],
      "execution_count": null,
      "outputs": [
        {
          "output_type": "execute_result",
          "data": {
            "application/vnd.google.colaboratory.intrinsic+json": {
              "type": "string"
            },
            "text/plain": [
              "''"
            ]
          },
          "metadata": {
            "tags": []
          },
          "execution_count": 5
        }
      ]
    },
    {
      "cell_type": "markdown",
      "metadata": {
        "id": "fzlpa3FVZpcL"
      },
      "source": [
        "## 과제3.\n",
        "\n",
        "----\n",
        "n개의 노드가 있는 그래프가 있다. 각 노드는 1부터 n까지 번호가 적혀있다. 1번 노드에서 가장 멀리 떨어진 노드의 갯수를 구하려고 한다. 가장 멀리 떨어진 노드란 최단경로로 이동했을 때 간선의 개수가 가장 많은 노드들을 의미한다.\n",
        "\n",
        "노드의 개수 n, 간선에 대한 정보가 담긴 2차원 배열 vertex가 매개변수로 주어질 때, 1번 노드로부터 가장 멀리 떨어진 노드가 몇 개인지를 return 하도록 solution 함수를 작성하라.\n",
        "\n",
        "- 제한사항\n",
        "  - 노드의 개수 n은 2 이상 20,000 이하입니다.\n",
        "  - 간선은 양방향이며 총 1개 이상 50,000개 이하의 간선이 있습니다.\n",
        "  - vertex 배열 각 행 `[a, b]`는 a번 노드와 b번 노드 사이에 간선이 있다는 의미입니다.\n",
        "\n",
        "- 입출력 예\n",
        "\n",
        "|n|vertex|return|\n",
        "|--|-----|------|\n",
        "|6|`[[3, 6], [4, 3], [3, 2], [1, 3], [1, 2], [2, 4], [5, 2]]`|3|\n",
        "\n",
        "\n",
        "```python\n",
        "def solution(n, vertex):\n",
        "    return 0\n",
        "\n",
        "```\n",
        "\n",
        "----"
      ]
    },
    {
      "cell_type": "code",
      "metadata": {
        "id": "_BWEVSzlfysf"
      },
      "source": [
        "# 과제 3번 코드란\n",
        "# BFS\n",
        "\n",
        "n = 6\n",
        "vertex = [[3, 6], [4, 3], [3, 2], [1, 3], [1, 2], [2, 4], [5, 2]]\n",
        "\n",
        "\n",
        "from collections import deque\n",
        "\n",
        "def solution(n, vertex):\n",
        "    # graph 생성 (양방향)\n",
        "    graph = dict()\n",
        "\n",
        "    for e1, e2 in vertex:\n",
        "      graph.setdefault(e1, []).append(e2) \n",
        "      graph.setdefault(e2, []).append(e1)\n",
        "\n",
        "    \n",
        "    answer = [-1] * (n+1) # 답 리스트\n",
        "    need_visit = deque([[1, 0]]) # dequeue ([node, depth])\n",
        "\n",
        "    \n",
        "    while need_visit:\n",
        "        node, depth = need_visit.pop()\n",
        "\n",
        "        answer[node] = depth\n",
        "\n",
        "        for node_idx in graph[node]:\n",
        "          if answer[node_idx] == -1:\n",
        "              answer[node_idx] = 0\n",
        "              need_visit.append([node_idx, depth+1]) #extend() -> graph에서 'node'key에 해당하는 value 값 붙이기\n",
        "        depth += 1      \n",
        "        \n",
        "    m = max(answer)\n",
        "    count = 0\n",
        "\n",
        "    for d in answer:\n",
        "      if d == m:\n",
        "        count += 1\n",
        "    return count\n",
        "\n",
        "\n"
      ],
      "execution_count": null,
      "outputs": []
    },
    {
      "cell_type": "code",
      "metadata": {
        "colab": {
          "base_uri": "https://localhost:8080/"
        },
        "id": "1a6lplLAY5eV",
        "outputId": "0d7b8614-c20a-40fc-c62c-b61e07a6fa30"
      },
      "source": [
        "solution(n, vertex)"
      ],
      "execution_count": null,
      "outputs": [
        {
          "output_type": "execute_result",
          "data": {
            "text/plain": [
              "3"
            ]
          },
          "metadata": {
            "tags": []
          },
          "execution_count": 178
        }
      ]
    },
    {
      "cell_type": "code",
      "metadata": {
        "id": "L5NeQC5so31z"
      },
      "source": [
        "### 예시 답안\n",
        "\n",
        "import heapq\n",
        " \n",
        "def solution(n, vertex):\n",
        "    to_visit = []\n",
        "    dists = [float('inf')] * (n + 1)\n",
        " \n",
        "    dists[1] = 0\n",
        "    heapq.heappush(to_visit, (0, 1))\n",
        "    while len(to_visit) > 0:\n",
        "        dist, node = heapq.heappop(to_visit)\n",
        "        adj_list = list(map(lambda x: x[1], filter(lambda x: x[0] == node, vertex)))\n",
        "        adj_list += list(map(lambda x: x[0], filter(lambda x: x[1] == node, vertex)))\n",
        "        for adj_node in adj_list:\n",
        "            if dists[adj_node] > dist + 1:\n",
        "                dists[adj_node] = dist + 1\n",
        "                heapq.heappush(to_visit, (dists[adj_node], adj_node))\n",
        " \n",
        "    return dists.count(max(dists[1:]))\n",
        " \n",
        "n = 6\n",
        "vertex = [[3, 6], [4, 3], [3, 2], [1, 3], [1, 2], [2, 4], [5, 2]]\n",
        "print(solution(n, vertex))"
      ],
      "execution_count": null,
      "outputs": []
    },
    {
      "cell_type": "code",
      "metadata": {
        "colab": {
          "base_uri": "https://localhost:8080/"
        },
        "id": "lXVJd1wsq7Qv",
        "outputId": "013c781f-e08c-4c97-ee39-93eba66a7cec"
      },
      "source": [
        "# 수정 답안\n",
        "\n",
        "import heapq\n",
        "# heapq 모듈은 이진 트리(binary tree) 기반의 최소 힙(min heap) 자료구조를 제공합니다. (PriorityQueue 와 유사)\n",
        "# min heap을 사용하면 원소들이 항상 정렬된 상태로 추가되고 삭제되며, min heap에서 가장 작은값은 언제나 인덱스 0, 즉, 이진 트리의 루트에 위치합니다. \n",
        " \n",
        "def solution(n, vertex):\n",
        "    to_visit = [] # [(depth, node), (d, n), ...] 구조 # min heap 구조 (우선순위)\n",
        "    depth_list = [float('inf')] * (n + 1)\n",
        "    depth_list[1] = 0 # 시작node인 1번 node는 0으로 depth 초기화 하고 시작\n",
        "\n",
        "    heapq.heappush(to_visit, (0, 1)) # 1번 node 에 depth=0 초기화 하고 시작\n",
        "\n",
        "\n",
        "    while len(to_visit) > 0:\n",
        "        print(to_visit)\n",
        "\n",
        "        depth, node = heapq.heappop(to_visit) # heappop ! (depth와 node 값 설정되면서 to_visit 리스트에서는 pop으로 해당 (d, n) 요소 값 삭제됨)\n",
        "\n",
        "        # 해당 pop node와 인접한 node 찾기 (양방향 !)\n",
        "        adj_list = list(map(lambda x: x[1], filter(lambda x: x[0] == node, vertex)))\n",
        "        adj_list += list(map(lambda x: x[0], filter(lambda x: x[1] == node, vertex)))\n",
        "        print(adj_list)\n",
        "        \n",
        "\n",
        "        for adj_node in adj_list:\n",
        "            if depth_list[adj_node] > depth + 1:\n",
        "                depth_list[adj_node] = depth + 1 # 작은 값으로 바꾸기 (예: 3번 node의 depth값 - inf -> 1)\n",
        "                heapq.heappush(to_visit, (depth_list[adj_node], adj_node))\n",
        "        \n",
        "        print(depth_list)\n",
        "        print()\n",
        " \n",
        "    return depth_list.count(max(depth_list[1:]))\n",
        " \n",
        "n = 6\n",
        "vertex = [[3, 6], [4, 3], [3, 2], [1, 3], [1, 2], [2, 4], [5, 2]]\n",
        "print(solution(n, vertex))"
      ],
      "execution_count": 18,
      "outputs": [
        {
          "output_type": "stream",
          "text": [
            "[(0, 1)]\n",
            "[3, 2]\n",
            "[inf, 0, 1, 1, inf, inf, inf]\n",
            "\n",
            "[(1, 2), (1, 3)]\n",
            "[4, 3, 1, 5]\n",
            "[inf, 0, 1, 1, 2, 2, inf]\n",
            "\n",
            "[(1, 3), (2, 4), (2, 5)]\n",
            "[6, 2, 4, 1]\n",
            "[inf, 0, 1, 1, 2, 2, 2]\n",
            "\n",
            "[(2, 4), (2, 5), (2, 6)]\n",
            "[3, 2]\n",
            "[inf, 0, 1, 1, 2, 2, 2]\n",
            "\n",
            "[(2, 5), (2, 6)]\n",
            "[2]\n",
            "[inf, 0, 1, 1, 2, 2, 2]\n",
            "\n",
            "[(2, 6)]\n",
            "[3]\n",
            "[inf, 0, 1, 1, 2, 2, 2]\n",
            "\n",
            "3\n"
          ],
          "name": "stdout"
        }
      ]
    },
    {
      "cell_type": "markdown",
      "metadata": {
        "id": "pVygrfyBZ-mf"
      },
      "source": [
        "## 과제4.\n",
        "\n",
        "----\n",
        "마을에 1부터 N의 고유 번호를 가진 사람들이 있다. 소문으로는 마을 사람 중에 마을 판사가 있다고 한다. 마을 판사가 실제로 존재한다면,\n",
        "\n",
        "- 마을 판사는 아무도 믿지 않는다.\n",
        "- 다른 모든 사람들은 마을 판사를 믿는다.\n",
        "- 마을 판사가 있다면 오직 한명 뿐이다.\n",
        "\n",
        "리스트 trust가 주어졌을 때, `trust[i] = [a, b]`는 고유 번호가 a인 사람이 고유 번호가 b인 사람을 믿는다는 것을 의미한다고 한다.\n",
        "\n",
        "마을 판사가 존재한다면 마을 판사의 고유 번호를, 존재하지 않는다면 -1을 출력하는 프로그램을 작성하시오.\n",
        " \n",
        "\n",
        "예시입력\n",
        "\n",
        "|N| trust| 출력|\n",
        "|-|------|----|\n",
        "|2| `[[1,2]]`| 2|\n",
        "|3| `[[1,3],[2,3]]` | 3 |\n",
        "|3| `[[1,3],[2,3],[3,1]]`| -1 |\n",
        "|3|`[[1,2],[2,3]]` | -1 |\n",
        "|4|`[[1,3],[1,4],[2,3],[2,4],[4,3]]`| 3 |\n",
        "\n",
        "```python\n",
        "def solution(N, trust):\n",
        "    return -1\n",
        "```\n",
        "\n",
        "----"
      ]
    },
    {
      "cell_type": "code",
      "metadata": {
        "id": "dkH_L1mR3qHU"
      },
      "source": [
        "# 수정 답안\n",
        "\n",
        "def solution(N, trust):\n",
        "    trusted_count = 0\n",
        "    trusting_count = 0\n",
        "\n",
        "    for people in range(1, N+1): #  1번 부터 N번 사람까지\n",
        "      trusted_count = len(list(map(lambda x:x[0], filter(lambda x: x[1]==people, trust))))\n",
        "      trusting_count = len(list(map(lambda x:x[1], filter(lambda x: x[0]==people, trust))))\n",
        "\n",
        "      # 판별\n",
        "      if trusted_count == (N-1) and trusting_count == 0:\n",
        "        return people\n",
        "      #else:\n",
        "        #continue\n",
        "\n",
        "    else: # for-else (다 돌아도 없다면,) \n",
        "      return -1"
      ],
      "execution_count": 19,
      "outputs": []
    },
    {
      "cell_type": "code",
      "metadata": {
        "colab": {
          "base_uri": "https://localhost:8080/"
        },
        "id": "M__GLXd05c8O",
        "outputId": "4d27b1ef-6f20-4f2c-b492-ceacfcd03b92"
      },
      "source": [
        "# 예시 1\n",
        "N = 2\n",
        "trust = [[1,2]]\n",
        "solution(N, trust)"
      ],
      "execution_count": 21,
      "outputs": [
        {
          "output_type": "execute_result",
          "data": {
            "text/plain": [
              "2"
            ]
          },
          "metadata": {
            "tags": []
          },
          "execution_count": 21
        }
      ]
    },
    {
      "cell_type": "code",
      "metadata": {
        "colab": {
          "base_uri": "https://localhost:8080/"
        },
        "id": "EFMCMuxy6C5v",
        "outputId": "31ce2e2b-4892-4544-a57a-9f5e57a9425f"
      },
      "source": [
        "# 예시 2\n",
        "N = 3\n",
        "trust = [[1,3],[2,3]]\n",
        "solution(N, trust)"
      ],
      "execution_count": 22,
      "outputs": [
        {
          "output_type": "execute_result",
          "data": {
            "text/plain": [
              "3"
            ]
          },
          "metadata": {
            "tags": []
          },
          "execution_count": 22
        }
      ]
    },
    {
      "cell_type": "code",
      "metadata": {
        "colab": {
          "base_uri": "https://localhost:8080/"
        },
        "id": "UBULqJk16FKI",
        "outputId": "cd3dd3cf-64cc-4822-c84f-451165cbead8"
      },
      "source": [
        "# 예시 3\n",
        "N = 3\n",
        "trust = [[1,3],[2,3],[3,1]]\n",
        "solution(N, trust)"
      ],
      "execution_count": 23,
      "outputs": [
        {
          "output_type": "execute_result",
          "data": {
            "text/plain": [
              "-1"
            ]
          },
          "metadata": {
            "tags": []
          },
          "execution_count": 23
        }
      ]
    },
    {
      "cell_type": "code",
      "metadata": {
        "colab": {
          "base_uri": "https://localhost:8080/"
        },
        "id": "9H01fX5c6Gsa",
        "outputId": "764a233b-d0b7-47d9-8f50-66aabddad4dc"
      },
      "source": [
        "# 예시 4\n",
        "N = 3\n",
        "trust = [[1,2],[2,3]]\n",
        "solution(N, trust)"
      ],
      "execution_count": 24,
      "outputs": [
        {
          "output_type": "execute_result",
          "data": {
            "text/plain": [
              "-1"
            ]
          },
          "metadata": {
            "tags": []
          },
          "execution_count": 24
        }
      ]
    },
    {
      "cell_type": "code",
      "metadata": {
        "colab": {
          "base_uri": "https://localhost:8080/"
        },
        "id": "t99oT7A16ISZ",
        "outputId": "c94701da-69f4-4986-fe82-6695a048afd7"
      },
      "source": [
        "# 예시 5\n",
        "N = 4\n",
        "trust = [[1,3],[1,4],[2,3],[2,4],[4,3]]\n",
        "solution(N, trust)"
      ],
      "execution_count": 25,
      "outputs": [
        {
          "output_type": "execute_result",
          "data": {
            "text/plain": [
              "3"
            ]
          },
          "metadata": {
            "tags": []
          },
          "execution_count": 25
        }
      ]
    },
    {
      "cell_type": "code",
      "metadata": {
        "id": "NaAFfyu81d41"
      },
      "source": [
        "# 예시 답안\n",
        "def solution(N, trust):\n",
        "    for i in range(1, N + 1):\n",
        "        if len(list(filter(lambda x: x[0] == i, trust))) > 0:\n",
        "            continue\n",
        "        if len(list(filter(lambda x: x[1] == i, trust))) == N - 1:\n",
        "            return i\n",
        "    return -1\n",
        " \n",
        "print(solution(2, [[1,2]])) # 2\n",
        "print(solution(3, [[1,3],[2,3]])) #3\n",
        "print(solution(3, [[1,3],[2,3],[3,1]])) #-1\n",
        "print(solution(3, [[1,2],[2,3]])) #-1\n",
        "print(solution(4, [[1,3],[1,4],[2,3],[2,4],[4,3]])) #3"
      ],
      "execution_count": null,
      "outputs": []
    },
    {
      "cell_type": "markdown",
      "metadata": {
        "id": "zLkvhi3E68OA"
      },
      "source": [
        "N = 4\n",
        "trust = [[1,3],[1,4],[2,3],[2,4],[4,3]]\n",
        "\n",
        "graph = dict()\n",
        "#for num in range(1, N+1):\n",
        "#  graph[num] = {}\n",
        "\n",
        "for idx in range(len(trust)):\n",
        "      graph.setdefault(trust[idx][0], []).append(trust[idx][1]) "
      ]
    },
    {
      "cell_type": "markdown",
      "metadata": {
        "id": "0SCoOg0a65Tk"
      },
      "source": [
        "trust = dict() # 내가 믿는 사람\n",
        "trusted = dict() # 나를 믿는 사람\n",
        "\n",
        "count = 0\n",
        "\n",
        "for num in range(1, N+1):\n",
        "  trust[num] = count\n",
        "\n",
        "for idx in range(len(trust)):\n",
        "  trust.setdefault(trust[idx][0], count).append(+1) "
      ]
    },
    {
      "cell_type": "code",
      "metadata": {
        "colab": {
          "base_uri": "https://localhost:8080/",
          "height": 208
        },
        "id": "x9sQtaC4K-rf",
        "outputId": "69500b5c-4f9f-4db4-bd6c-c1615668b1e9"
      },
      "source": [
        "trust = dict() # 내가 믿는 사람\n",
        "trusted = dict() # 나를 믿는 사람\n",
        "\n",
        "count = 0\n",
        "\n",
        "for num in range(1, N+1):\n",
        "  trust[num] = count\n",
        "\n",
        "for idx in range(len(trust)):\n",
        "  trust.setdefault(trust[idx][0], count).append(+1) "
      ],
      "execution_count": null,
      "outputs": [
        {
          "output_type": "error",
          "ename": "KeyError",
          "evalue": "ignored",
          "traceback": [
            "\u001b[0;31m---------------------------------------------------------------------------\u001b[0m",
            "\u001b[0;31mKeyError\u001b[0m                                  Traceback (most recent call last)",
            "\u001b[0;32m<ipython-input-10-4eb0e7eda714>\u001b[0m in \u001b[0;36m<module>\u001b[0;34m()\u001b[0m\n\u001b[1;32m      8\u001b[0m \u001b[0;34m\u001b[0m\u001b[0m\n\u001b[1;32m      9\u001b[0m \u001b[0;32mfor\u001b[0m \u001b[0midx\u001b[0m \u001b[0;32min\u001b[0m \u001b[0mrange\u001b[0m\u001b[0;34m(\u001b[0m\u001b[0mlen\u001b[0m\u001b[0;34m(\u001b[0m\u001b[0mtrust\u001b[0m\u001b[0;34m)\u001b[0m\u001b[0;34m)\u001b[0m\u001b[0;34m:\u001b[0m\u001b[0;34m\u001b[0m\u001b[0;34m\u001b[0m\u001b[0m\n\u001b[0;32m---> 10\u001b[0;31m   \u001b[0mtrust\u001b[0m\u001b[0;34m.\u001b[0m\u001b[0msetdefault\u001b[0m\u001b[0;34m(\u001b[0m\u001b[0mtrust\u001b[0m\u001b[0;34m[\u001b[0m\u001b[0midx\u001b[0m\u001b[0;34m]\u001b[0m\u001b[0;34m[\u001b[0m\u001b[0;36m0\u001b[0m\u001b[0;34m]\u001b[0m\u001b[0;34m,\u001b[0m \u001b[0mcount\u001b[0m\u001b[0;34m)\u001b[0m\u001b[0;34m.\u001b[0m\u001b[0mappend\u001b[0m\u001b[0;34m(\u001b[0m\u001b[0;34m+\u001b[0m\u001b[0;36m1\u001b[0m\u001b[0;34m)\u001b[0m\u001b[0;34m\u001b[0m\u001b[0;34m\u001b[0m\u001b[0m\n\u001b[0m",
            "\u001b[0;31mKeyError\u001b[0m: 0"
          ]
        }
      ]
    },
    {
      "cell_type": "code",
      "metadata": {
        "id": "kwYofIu2Z-3e"
      },
      "source": [
        "# 과제 4번 코드란\n",
        "\n",
        "import heapq # 최소 힙\n",
        "\n",
        "def solution(N, trust):\n",
        "    # graph 생성 (단방향)\n",
        "    trust = list() # 내가 믿는 사람\n",
        "    trust = list() # 나를 믿는 사람\n",
        "    count = 0\n",
        "    \n",
        "    for idx in range(len(trust)):\n",
        "      trust.setdefault(trust[idx][0], []).append(count+1) \n",
        "\n",
        "\n",
        "    # 출발점\n",
        "    start = 1\n",
        "    \n",
        "\n",
        "    distances[start] = 0\n",
        "    \n",
        "    queue = []\n",
        "    heapq.heappush(queue, [distances[start], start])\n",
        "    \n",
        "    while queue: #queue에 데이터가 없을 때까지 수행\n",
        "        current_distance, current_node = heapq.heappop(queue)\n",
        "        \n",
        "        if distances[current_node] < current_distance: # 이미 작은 값이 들어있었다면\n",
        "            continue\n",
        "            \n",
        "        #for adjacent in graph[current_node]:\n",
        "        #    distance = current_distance\n",
        "            \n",
        "        #    if distance < distances[adjacent]:\n",
        "        #        distances[adjacent] = distance\n",
        "        #        heapq.heappush(queue, [distance, adjacent])\n",
        "\n",
        "        for number in range(1, N+1):\n",
        "          if trust[number] == 0 and trusted[number] == N-1:\n",
        "              return number\n",
        "                \n",
        "    return distances\n",
        "\n",
        "#return -1\n",
        "\n",
        "\n",
        "\n",
        "\n"
      ],
      "execution_count": null,
      "outputs": []
    },
    {
      "cell_type": "code",
      "metadata": {
        "colab": {
          "base_uri": "https://localhost:8080/",
          "height": 298
        },
        "id": "vCAeFAqqFwkV",
        "outputId": "616a68c0-0f50-4871-f597-ee7c9dc5e87f"
      },
      "source": [
        "solution(N, trust)"
      ],
      "execution_count": null,
      "outputs": [
        {
          "output_type": "error",
          "ename": "NameError",
          "evalue": "ignored",
          "traceback": [
            "\u001b[0;31m---------------------------------------------------------------------------\u001b[0m",
            "\u001b[0;31mNameError\u001b[0m                                 Traceback (most recent call last)",
            "\u001b[0;32m<ipython-input-12-2f61af974afa>\u001b[0m in \u001b[0;36m<module>\u001b[0;34m()\u001b[0m\n\u001b[0;32m----> 1\u001b[0;31m \u001b[0msolution\u001b[0m\u001b[0;34m(\u001b[0m\u001b[0mN\u001b[0m\u001b[0;34m,\u001b[0m \u001b[0mtrust\u001b[0m\u001b[0;34m)\u001b[0m\u001b[0;34m\u001b[0m\u001b[0;34m\u001b[0m\u001b[0m\n\u001b[0m",
            "\u001b[0;32m<ipython-input-11-3a9397c69c07>\u001b[0m in \u001b[0;36msolution\u001b[0;34m(N, trust)\u001b[0m\n\u001b[1;32m     17\u001b[0m \u001b[0;34m\u001b[0m\u001b[0m\n\u001b[1;32m     18\u001b[0m \u001b[0;34m\u001b[0m\u001b[0m\n\u001b[0;32m---> 19\u001b[0;31m     \u001b[0mdistances\u001b[0m\u001b[0;34m[\u001b[0m\u001b[0mstart\u001b[0m\u001b[0;34m]\u001b[0m \u001b[0;34m=\u001b[0m \u001b[0;36m0\u001b[0m\u001b[0;34m\u001b[0m\u001b[0;34m\u001b[0m\u001b[0m\n\u001b[0m\u001b[1;32m     20\u001b[0m \u001b[0;34m\u001b[0m\u001b[0m\n\u001b[1;32m     21\u001b[0m     \u001b[0mqueue\u001b[0m \u001b[0;34m=\u001b[0m \u001b[0;34m[\u001b[0m\u001b[0;34m]\u001b[0m\u001b[0;34m\u001b[0m\u001b[0;34m\u001b[0m\u001b[0m\n",
            "\u001b[0;31mNameError\u001b[0m: name 'distances' is not defined"
          ]
        }
      ]
    },
    {
      "cell_type": "markdown",
      "metadata": {
        "id": "kmzckUxxfWkw"
      },
      "source": [
        "----\n",
        "\n",
        "**수고하셨습니다!**\n",
        "\n",
        "----"
      ]
    },
    {
      "cell_type": "markdown",
      "metadata": {
        "id": "tgKiGrOIaU-t"
      },
      "source": [
        "## 과제 피드백 작성란\n",
        "\n",
        "----\n",
        "\n",
        "### 과제1(25/25)\n",
        "\n",
        "- 이진 탐색법을 2차원 배열에 대해서 구현하는 문제였습니다.\n",
        "- 잘 구현해 주셨습니다 :) 아래 예시 답안과 테스트 코드도 확인해 보세요!\n",
        "\n",
        "예시 답안)\n",
        "\n",
        "```python\n",
        "def searchMatrix(matrix, target):\n",
        "    def searchRow(sub_matrix):\n",
        "        m = len(sub_matrix)\n",
        "\n",
        "        if m == 1:\n",
        "            return sub_matrix[0]\n",
        "\n",
        "        mid = m // 2\n",
        "        left = sub_matrix[:mid]\n",
        "        right = sub_matrix[mid+1:]\n",
        "\n",
        "        if sub_matrix[mid][0] <= target <= sub_matrix[mid][-1]:\n",
        "            return sub_matrix[mid]\n",
        "        elif sub_matrix[mid][0] > target:\n",
        "            return searchRow(left)\n",
        "        else:\n",
        "            return searchRow(right)\n",
        "\n",
        "    def searchCol(array):\n",
        "        n = len(array)\n",
        "\n",
        "        if n == 0:\n",
        "            return False\n",
        "\n",
        "        if n == 1:\n",
        "            if array[0] == target:\n",
        "                return True\n",
        "            else:\n",
        "                return False\n",
        "\n",
        "        mid = n // 2\n",
        "        left = array[:mid]\n",
        "        right = array[mid+1:]\n",
        "\n",
        "        if array[mid] == target:\n",
        "            return True\n",
        "        elif array[mid] > target:\n",
        "            return searchCol(left)\n",
        "        else:\n",
        "            return searchCol(right)\n",
        "\n",
        "    array = searchRow(matrix)\n",
        "    return searchCol(array)\n",
        "\n",
        "\n",
        "matrix = [\n",
        "  [1,   3,  5,  7],\n",
        "  [10, 11, 16, 20],\n",
        "  [23, 30, 34, 50]\n",
        "]\n",
        "target = 3\n",
        "print(searchMatrix(matrix, target))\n",
        "\n",
        "matrix = [\n",
        "  [1,   3,  5,  7],\n",
        "  [10, 11, 16, 20],\n",
        "  [23, 30, 34, 50]\n",
        "]\n",
        "target = 13\n",
        "print(searchMatrix(matrix, target))\n",
        "```\n",
        "\n",
        "### 과제2(25/25)\n",
        "\n",
        "- 탐욕 알고리즘으로 적절한 답안을 찾아내는 문제였습니다.\n",
        "- 문제에서 제시하는 정의에 맞게 잘 구현해 주셨습니다 :)\n",
        "\n",
        "예시 답안)\n",
        "\n",
        "```python\n",
        "\n",
        "def gcdString(A, B):\n",
        "    def isDivisor(string, divisor):\n",
        "        n = len(divisor)\n",
        "        if len(string) % n != 0:\n",
        "            return False\n",
        "        \n",
        "        while string != '':\n",
        "            if string[:n] != divisor:\n",
        "                return False\n",
        "            string = string[n:]\n",
        "        return True\n",
        "    \n",
        "    if len(A) > len(B):\n",
        "        str1, str2 = A, B\n",
        "    else:\n",
        "        str1, str2 = B, A\n",
        "    \n",
        "    divisor = str2\n",
        "    m = 1\n",
        "    while divisor != '':\n",
        "        if isDivisor(str2, divisor) and isDivisor(str1, divisor):\n",
        "            return divisor\n",
        "        m += 1\n",
        "        divisor = str2[:len(str2) // m]\n",
        "    return ''\n",
        "\n",
        "A = 'ababcde'\n",
        "B = 'ababcde'\n",
        "print(gcdString(A, B))\n",
        "\n",
        "A = 'ababababab'\n",
        "B = 'abab'\n",
        "print(gcdString(A, B))\n",
        "\n",
        "A = 'abababab'\n",
        "B = 'abab'\n",
        "print(gcdString(A, B))\n",
        "\n",
        "A = 'fast'\n",
        "B = 'campus'\n",
        "print(gcdString(A, B))\n",
        "```\n",
        "\n",
        "### 과제3(25/25)\n",
        "\n",
        "- 그래프 구조에서 최단 거리를 구하는 문제였습니다.\n",
        "- 예시 입출력이 잘 동작하도록 잘 구현해 주셨습니다! :)\n",
        "\n",
        "예시 답안)\n",
        "\n",
        "```python\n",
        "import heapq\n",
        "\n",
        "def solution(n, vertex):\n",
        "    to_visit = []\n",
        "    dists = [float('inf')] * (n + 1)\n",
        "    \n",
        "    dists[1] = 0\n",
        "    heapq.heappush(to_visit, (0, 1))\n",
        "    while len(to_visit) > 0:\n",
        "        dist, node = heapq.heappop(to_visit)\n",
        "        adj_list = list(map(lambda x: x[1], filter(lambda x: x[0] == node, vertex)))\n",
        "        adj_list += list(map(lambda x: x[0], filter(lambda x: x[1] == node, vertex)))\n",
        "        for adj_node in adj_list:\n",
        "            if dists[adj_node] > dist + 1:\n",
        "                dists[adj_node] = dist + 1\n",
        "                heapq.heappush(to_visit, (dists[adj_node], adj_node))\n",
        "    \n",
        "    return dists.count(max(dists[1:]))\n",
        "    \n",
        "n = 6\n",
        "vertex = [[3, 6], [4, 3], [3, 2], [1, 3], [1, 2], [2, 4], [5, 2]]\n",
        "print(solution(n, vertex))\n",
        "```\n",
        "### 과제4(0/25)\n",
        "\n",
        "- 그래프 구조의 구성을 이해하는 문제였습니다.\n",
        "- 문제에 제시된 조건을 하나씩 체크하는 방식으로 구현이 가능합니다 :)\n",
        "\n",
        "예시 답안)\n",
        "\n",
        "```python\n",
        "def solution(N, trust):\n",
        "    for i in range(1, N + 1):\n",
        "        if len(list(filter(lambda x: x[0] == i, trust))) > 0:\n",
        "            continue\n",
        "        if len(list(filter(lambda x: x[1] == i, trust))) == N - 1:\n",
        "            return i\n",
        "    return -1\n",
        "\n",
        "print(solution(2, [[1,2]])) # 2\n",
        "print(solution(3, [[1,3],[2,3]])) #3\n",
        "print(solution(3, [[1,3],[2,3],[3,1]])) #-1\n",
        "print(solution(3, [[1,2],[2,3]])) #-1\n",
        "print(solution(4, [[1,3],[1,4],[2,3],[2,4],[4,3]])) #3\n",
        "```\n",
        "\n"
      ]
    },
    {
      "cell_type": "code",
      "metadata": {
        "id": "THLK5bD5i9sT"
      },
      "source": [
        ""
      ],
      "execution_count": null,
      "outputs": []
    }
  ]
}