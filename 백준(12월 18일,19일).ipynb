{
 "cells": [
  {
   "cell_type": "markdown",
   "metadata": {},
   "source": [
    "# 백준 2920번: 음계"
   ]
  },
  {
   "cell_type": "code",
   "execution_count": null,
   "metadata": {},
   "outputs": [],
   "source": [
    "# 첫 시도\n",
    "input_list = list(map(int, input().split(' ')))\n",
    "da_list = [1, 2, 3, 4, 5, 6, 7, 8]\n",
    "\n",
    "if input_list == da_list:\n",
    "    print('ascending')\n",
    "\n",
    "elif input_list == da_list.reverse():\n",
    "    print('descending')\n",
    "\n",
    "else:\n",
    "    print('mixed')"
   ]
  },
  {
   "cell_type": "code",
   "execution_count": null,
   "metadata": {},
   "outputs": [],
   "source": [
    "# 답\n",
    "a = list(map(int, input().split(' ')))\n",
    "      \n",
    "ascending = True\n",
    "descending = True\n",
    "\n",
    "for i in range(1, 8):\n",
    "    if a[i-1] < a[i]:\n",
    "         descending = False\n",
    "    elif a[i-1] > a[i]:\n",
    "         ascending = False\n",
    "         \n",
    "         \n",
    "if ascending: # True\n",
    "    print('ascending')\n",
    "\n",
    "elif descending:\n",
    "    print('descending')\n",
    "\n",
    "else:\n",
    "    print('mixed')"
   ]
  },
  {
   "cell_type": "markdown",
   "metadata": {},
   "source": [
    "# 백준 2798번: 블랙잭"
   ]
  },
  {
   "cell_type": "code",
   "execution_count": 19,
   "metadata": {},
   "outputs": [],
   "source": [
    "N, M = 10, 500\n",
    "cards_list = [93, 181, 245, 214, 315, 36, 185, 138, 216, 295]"
   ]
  },
  {
   "cell_type": "code",
   "execution_count": 20,
   "metadata": {
    "scrolled": true
   },
   "outputs": [
    {
     "name": "stdout",
     "output_type": "stream",
     "text": [
      "1번+2번의 합: 610\n",
      "855\n",
      "826\n",
      "824\n",
      "795\n",
      "791\n",
      "748\n",
      "703\n",
      "646\n",
      "1번+2번의 합: 560\n",
      "776\n",
      "774\n",
      "745\n",
      "741\n",
      "698\n",
      "653\n",
      "596\n",
      "1번+2번의 합: 531\n",
      "745\n",
      "716\n",
      "712\n",
      "669\n",
      "624\n",
      "567\n",
      "1번+2번의 합: 529\n",
      "714\n",
      "710\n",
      "667\n",
      "622\n",
      "565\n",
      "1번+2번의 합: 500\n",
      "681\n",
      "638\n",
      "593\n",
      "536\n",
      "1번+2번의 합: 496\n",
      "634\n",
      "589\n",
      "532\n",
      "1번+2번의 합: 453\n",
      "546\n"
     ]
    },
    {
     "data": {
      "text/plain": [
       "489"
      ]
     },
     "execution_count": 20,
     "metadata": {},
     "output_type": "execute_result"
    }
   ],
   "source": [
    "# 첫 시도\n",
    "\n",
    "#a = list(map(int, input().split(' '))) # 첫째 줄\n",
    "#N, M = a[0], a[1]\n",
    "\n",
    "#cards_list = list(map(int, input().split(' '))) # 둘째 줄\n",
    "\n",
    "cards_list.sort(reverse=True) # 큰 수 부터 정렬\n",
    "\n",
    "\n",
    "def solution(N, M, cards_list):\n",
    "    sum = 0\n",
    "    \n",
    "    for idx1 in range(0, N-2):\n",
    "        for idx2 in range(idx1+1, N-1):\n",
    "            sum = (cards_list[idx1] + cards_list[idx2])\n",
    "            print('1번+2번의 합: '+str(sum))\n",
    "\n",
    "            for idx3 in range(idx2+1, N):\n",
    "                if sum + cards_list[idx3] > M:\n",
    "                    print(sum + cards_list[idx3])\n",
    "                    continue\n",
    "                else:\n",
    "                    sum += cards_list[idx3]\n",
    "                    return sum\n",
    "                \n",
    "solution(N, M, cards_list)\n",
    "\n",
    "# (실패)틀린 예제case 존재\n",
    "# case 2: 497이 답인데 489 출력"
   ]
  },
  {
   "cell_type": "code",
   "execution_count": null,
   "metadata": {},
   "outputs": [],
   "source": [
    "# 수정 답안\n",
    "\n",
    "N, M = list(map(int, input().split(' '))) # 첫째 줄\n",
    "cards_list = list(map(int, input().split(' '))) # 둘째 줄\n",
    "\n",
    "#cards_list.sort(reverse=True) # 큰 수 부터 정렬      ##완전탐색이므로 내림차순 정렬 안해도 됨(?)\n",
    "\n",
    "\n",
    "result = 0\n",
    "sum = 0\n",
    "\n",
    "## 3중 반복문 => 모든 경우의 수 계산 가능\n",
    "for idx1 in range(0, N-2):\n",
    "    for idx2 in range(idx1+1, N-1):\n",
    "        for idx3 in range(idx2+1, N):\n",
    "            sum = cards_list[idx1] + cards_list[idx2] + cards_list[idx3]\n",
    "            if sum <= M:\n",
    "                result = max(result, sum) # result & max() 활용\n",
    "                \n",
    "print(result)\n",
    "\n"
   ]
  },
  {
   "cell_type": "markdown",
   "metadata": {},
   "source": [
    "# 백준 10930번: SHA-256"
   ]
  },
  {
   "cell_type": "code",
   "execution_count": null,
   "metadata": {},
   "outputs": [],
   "source": [
    "# 첫시도 (성공)\n",
    "s = input() # 문자열 입력 받은 것 그대로 사용\n",
    "\n",
    "import hashlib\n",
    "\n",
    "HASH_NAME = \"sha256\"\n",
    "\n",
    "text = s.encode('utf-8')\n",
    "sha256 = hashlib.new(HASH_NAME)\n",
    "sha256.update(text)\n",
    "result = sha256.hexdigest()\n",
    "\n",
    "print(result)"
   ]
  },
  {
   "cell_type": "markdown",
   "metadata": {},
   "source": [
    "## 원리\n",
    "1. hashlib의 sha256 함수를 이용하면 SHA 256 해시를 구할 수 있다.\n",
    "2. hashlib.sha256(문자열의 바이트 객체).hexdigest() : 해시 결과 문자열"
   ]
  },
  {
   "cell_type": "code",
   "execution_count": null,
   "metadata": {},
   "outputs": [],
   "source": [
    "# 답\n",
    "import hashlib # hashlib 활용\n",
    "\n",
    "input_data = input()\n",
    "\n",
    "encoded_data = input_data.encode() # encode() 함수  -> 입력받은 문자열의 byte 객체를 구함\n",
    "result = hashlib.sha256(encoded_data).hexdigest() # hashlib.sha256(encoded_data) -> 하나의 해시 객체 생성 # hexdigest() 함수 -> 해시 결과 문자열\n",
    "print(result)"
   ]
  },
  {
   "cell_type": "markdown",
   "metadata": {},
   "source": [
    "# 백준 1920번: 수 찾기"
   ]
  },
  {
   "cell_type": "code",
   "execution_count": null,
   "metadata": {},
   "outputs": [],
   "source": [
    "# 첫 시도 (시간 초과)\n",
    "N = int(input())\n",
    "a = list(map(int, input().split(' ')))\n",
    "\n",
    "M = int(input())\n",
    "b = list(map(int, input().split(' ')))\n",
    "\n",
    "\n",
    "for elem_b in b:\n",
    "    for elem_a in a:\n",
    "        if elem_b == elem_a:\n",
    "            print(1)\n",
    "    else: # for-else\n",
    "        print(0)"
   ]
  },
  {
   "cell_type": "code",
   "execution_count": null,
   "metadata": {},
   "outputs": [],
   "source": [
    "# 두 번째 시도 (시간 초과)\n",
    "N = int(input())\n",
    "a = list(map(int, input().split(' ')))\n",
    "\n",
    "M = int(input())\n",
    "b = list(map(int, input().split(' ')))\n",
    "\n",
    "\n",
    "for elem_b in b:\n",
    "    if elem_b in a:\n",
    "        print(1)\n",
    "    else: # for-else\n",
    "        print(0)"
   ]
  },
  {
   "cell_type": "code",
   "execution_count": 23,
   "metadata": {},
   "outputs": [],
   "source": [
    "N = 5\n",
    "a = {4, 1, 5, 2, 3}\n",
    "\n",
    "M = 5\n",
    "b = [1, 3, 7, 9, 5]"
   ]
  },
  {
   "cell_type": "code",
   "execution_count": 24,
   "metadata": {},
   "outputs": [
    {
     "name": "stdout",
     "output_type": "stream",
     "text": [
      "1\n",
      "3\n",
      "7\n",
      "9\n",
      "5\n"
     ]
    }
   ],
   "source": [
    "for elem_b in b:\n",
    "    print(elem_b)"
   ]
  },
  {
   "cell_type": "code",
   "execution_count": 27,
   "metadata": {},
   "outputs": [
    {
     "ename": "KeyboardInterrupt",
     "evalue": "Interrupted by user",
     "output_type": "error",
     "traceback": [
      "\u001b[0;31m---------------------------------------------------------------------------\u001b[0m",
      "\u001b[0;31mKeyboardInterrupt\u001b[0m                         Traceback (most recent call last)",
      "\u001b[0;32m<ipython-input-27-0b00a117bbac>\u001b[0m in \u001b[0;36m<module>\u001b[0;34m\u001b[0m\n\u001b[1;32m      1\u001b[0m \u001b[0;31m# 수정 답안\u001b[0m\u001b[0;34m\u001b[0m\u001b[0;34m\u001b[0m\u001b[0;34m\u001b[0m\u001b[0m\n\u001b[0;32m----> 2\u001b[0;31m \u001b[0mN\u001b[0m \u001b[0;34m=\u001b[0m \u001b[0mint\u001b[0m\u001b[0;34m(\u001b[0m\u001b[0minput\u001b[0m\u001b[0;34m(\u001b[0m\u001b[0;34m)\u001b[0m\u001b[0;34m)\u001b[0m\u001b[0;34m\u001b[0m\u001b[0;34m\u001b[0m\u001b[0m\n\u001b[0m\u001b[1;32m      3\u001b[0m \u001b[0ma\u001b[0m \u001b[0;34m=\u001b[0m \u001b[0mset\u001b[0m\u001b[0;34m(\u001b[0m\u001b[0mmap\u001b[0m\u001b[0;34m(\u001b[0m\u001b[0mint\u001b[0m\u001b[0;34m,\u001b[0m \u001b[0minput\u001b[0m\u001b[0;34m(\u001b[0m\u001b[0;34m)\u001b[0m\u001b[0;34m.\u001b[0m\u001b[0msplit\u001b[0m\u001b[0;34m(\u001b[0m\u001b[0;34m' '\u001b[0m\u001b[0;34m)\u001b[0m\u001b[0;34m)\u001b[0m\u001b[0;34m)\u001b[0m \u001b[0;31m# 파이썬 내 'set'을 활용하면 빠른 검색 가능(해시형 자료구조)\u001b[0m\u001b[0;34m\u001b[0m\u001b[0;34m\u001b[0m\u001b[0m\n\u001b[1;32m      4\u001b[0m \u001b[0;34m\u001b[0m\u001b[0m\n\u001b[1;32m      5\u001b[0m \u001b[0mM\u001b[0m \u001b[0;34m=\u001b[0m \u001b[0mint\u001b[0m\u001b[0;34m(\u001b[0m\u001b[0minput\u001b[0m\u001b[0;34m(\u001b[0m\u001b[0;34m)\u001b[0m\u001b[0;34m)\u001b[0m\u001b[0;34m\u001b[0m\u001b[0;34m\u001b[0m\u001b[0m\n",
      "\u001b[0;32m~/opt/anaconda3/lib/python3.8/site-packages/ipykernel/kernelbase.py\u001b[0m in \u001b[0;36mraw_input\u001b[0;34m(self, prompt)\u001b[0m\n\u001b[1;32m    858\u001b[0m                 \u001b[0;34m\"raw_input was called, but this frontend does not support input requests.\"\u001b[0m\u001b[0;34m\u001b[0m\u001b[0;34m\u001b[0m\u001b[0m\n\u001b[1;32m    859\u001b[0m             )\n\u001b[0;32m--> 860\u001b[0;31m         return self._input_request(str(prompt),\n\u001b[0m\u001b[1;32m    861\u001b[0m             \u001b[0mself\u001b[0m\u001b[0;34m.\u001b[0m\u001b[0m_parent_ident\u001b[0m\u001b[0;34m,\u001b[0m\u001b[0;34m\u001b[0m\u001b[0;34m\u001b[0m\u001b[0m\n\u001b[1;32m    862\u001b[0m             \u001b[0mself\u001b[0m\u001b[0;34m.\u001b[0m\u001b[0m_parent_header\u001b[0m\u001b[0;34m,\u001b[0m\u001b[0;34m\u001b[0m\u001b[0;34m\u001b[0m\u001b[0m\n",
      "\u001b[0;32m~/opt/anaconda3/lib/python3.8/site-packages/ipykernel/kernelbase.py\u001b[0m in \u001b[0;36m_input_request\u001b[0;34m(self, prompt, ident, parent, password)\u001b[0m\n\u001b[1;32m    902\u001b[0m             \u001b[0;32mexcept\u001b[0m \u001b[0mKeyboardInterrupt\u001b[0m\u001b[0;34m:\u001b[0m\u001b[0;34m\u001b[0m\u001b[0;34m\u001b[0m\u001b[0m\n\u001b[1;32m    903\u001b[0m                 \u001b[0;31m# re-raise KeyboardInterrupt, to truncate traceback\u001b[0m\u001b[0;34m\u001b[0m\u001b[0;34m\u001b[0m\u001b[0;34m\u001b[0m\u001b[0m\n\u001b[0;32m--> 904\u001b[0;31m                 \u001b[0;32mraise\u001b[0m \u001b[0mKeyboardInterrupt\u001b[0m\u001b[0;34m(\u001b[0m\u001b[0;34m\"Interrupted by user\"\u001b[0m\u001b[0;34m)\u001b[0m \u001b[0;32mfrom\u001b[0m \u001b[0;32mNone\u001b[0m\u001b[0;34m\u001b[0m\u001b[0;34m\u001b[0m\u001b[0m\n\u001b[0m\u001b[1;32m    905\u001b[0m             \u001b[0;32mexcept\u001b[0m \u001b[0mException\u001b[0m \u001b[0;32mas\u001b[0m \u001b[0me\u001b[0m\u001b[0;34m:\u001b[0m\u001b[0;34m\u001b[0m\u001b[0;34m\u001b[0m\u001b[0m\n\u001b[1;32m    906\u001b[0m                 \u001b[0mself\u001b[0m\u001b[0;34m.\u001b[0m\u001b[0mlog\u001b[0m\u001b[0;34m.\u001b[0m\u001b[0mwarning\u001b[0m\u001b[0;34m(\u001b[0m\u001b[0;34m\"Invalid Message:\"\u001b[0m\u001b[0;34m,\u001b[0m \u001b[0mexc_info\u001b[0m\u001b[0;34m=\u001b[0m\u001b[0;32mTrue\u001b[0m\u001b[0;34m)\u001b[0m\u001b[0;34m\u001b[0m\u001b[0;34m\u001b[0m\u001b[0m\n",
      "\u001b[0;31mKeyboardInterrupt\u001b[0m: Interrupted by user"
     ]
    }
   ],
   "source": [
    "# 수정 답안\n",
    "N = int(input())\n",
    "a = set(map(int, input().split(' '))) # 파이썬 내 'set'을 활용하면 빠른 검색 가능(해시형 자료구조)\n",
    "\n",
    "M = int(input())\n",
    "b = list(map(int, input().split(' '))) # B 배열은 주어진 순서를 지켜야함\n",
    "\n",
    "\n",
    "for elem_b in b:\n",
    "    if elem_b in a:\n",
    "        print('1')\n",
    "    else: # for-else\n",
    "        print('0')"
   ]
  },
  {
   "cell_type": "markdown",
   "metadata": {},
   "source": [
    "# 백준 4195번: 친구 네트워크"
   ]
  },
  {
   "cell_type": "markdown",
   "metadata": {},
   "source": [
    "# 원리\n",
    "1. 해시를 활용한 Union-Find 알고리즘(=합집합 찾기)을 이용해 문제를 풀 수 있다.\n",
    "2. Python에서는 dictionary 자료형을 해시처럼 사용할 수 있다"
   ]
  },
  {
   "cell_type": "code",
   "execution_count": 29,
   "metadata": {},
   "outputs": [
    {
     "name": "stdout",
     "output_type": "stream",
     "text": [
      "2 2 3 2 "
     ]
    }
   ],
   "source": [
    "# 합 집합 찾기(Union-Find) 알고리즘\n",
    "\n",
    "# 1. find 함수 : 자신이 가리키는 부모 Node를 재귀적으로 찾는 함수\n",
    "def find(x):\n",
    "    if x == parent[x]:\n",
    "        return x\n",
    "    else:\n",
    "        p = find(parent[x])\n",
    "        parent[x] = p\n",
    "        return parent[x]\n",
    "\n",
    "\n",
    "# 2. union 함수 : 더 작은 원소(오른쪽 원소)를 부모 값으로 설정\n",
    "def union(x, y):\n",
    "    x = find(x)\n",
    "    y = find(y)\n",
    "    \n",
    "    parent[y] = x\n",
    "    \n",
    "    \n",
    "\n",
    "parent = [] # 리스트 or 딕셔너리\n",
    "\n",
    "for i in range(0, 5):\n",
    "    parent.append(i)\n",
    "    \n",
    "union(1,4)\n",
    "union(2,4)\n",
    "\n",
    "for i in range(1, len(parent)):\n",
    "    print(find(i), end = ' ')\n"
   ]
  },
  {
   "cell_type": "code",
   "execution_count": 30,
   "metadata": {},
   "outputs": [
    {
     "name": "stdout",
     "output_type": "stream",
     "text": [
      "2\n",
      "3\n",
      "Fred Barney\n",
      "2\n",
      "Barney Betty\n",
      "3\n",
      "Betty Wilma\n",
      "4\n",
      "3\n",
      "Fred Barney\n",
      "2\n",
      "Betty Wilma\n",
      "2\n",
      "Barney Betty\n",
      "4\n"
     ]
    }
   ],
   "source": [
    "# 정답 답안\n",
    "\n",
    "# 1. find 함수 : 자신이 가리키는 부모 Node를 재귀적으로 찾는 함수\n",
    "def find(x):\n",
    "    if x == parent[x]:\n",
    "        return x\n",
    "    else:\n",
    "        p = find(parent[x])\n",
    "        parent[x] = p\n",
    "        return parent[x]\n",
    "\n",
    "\n",
    "# 2. union 함수 : 더 작은 원소(오른쪽 원소)를 부모 값으로 설정\n",
    "def union(x, y):\n",
    "    x = find(x)\n",
    "    y = find(y)\n",
    "    \n",
    "    if x != y:\n",
    "        parent[y] = x\n",
    "        number[x] += number[y] # 이전 number의 값을 이관받기 # number: 친구 네트워크의 크기\n",
    "        \n",
    "        \n",
    "\n",
    "test_case = int(input())\n",
    "\n",
    "for _ in range(test_case): # 테스트케이스 만큼 반복\n",
    "    parent = dict() # 테케 마다 초기화\n",
    "    number = dict() # 문자열의 경우, list보다 dictionary가 효과적\n",
    "    \n",
    "    f = int(input()) # 해당 테케의 친구 관계 수\n",
    "    \n",
    "    for _ in range(f):\n",
    "        x, y = input().split(' ')\n",
    "        \n",
    "        # 기존에 없다면, 해당 친구 새로 만들어주기\n",
    "        if x not in parent:\n",
    "            parent[x] = x\n",
    "            number[x] = 1 \n",
    "            \n",
    "        if y not in parent:\n",
    "            parent[y] = y\n",
    "            number[y] = 1\n",
    "            \n",
    "        # 있다면, 합집합 찾기 수행    \n",
    "        union(x, y)\n",
    "        print(number[find(x)])"
   ]
  },
  {
   "cell_type": "markdown",
   "metadata": {},
   "source": [
    "# 백준 2750번: 수 정렬하기"
   ]
  },
  {
   "cell_type": "code",
   "execution_count": null,
   "metadata": {},
   "outputs": [],
   "source": [
    "# 첫 시도 (성공) <- 2) 파이썬 기본 라이브러리 활용 (108ms초)\n",
    "input_list = []\n",
    "\n",
    "N = int(input())\n",
    "\n",
    "# 리스트에 담기\n",
    "for _ in range(N):\n",
    "    input_list.append(int(input()))\n",
    "\n",
    "# 기본 정렬\n",
    "input_list.sort()\n",
    "\n",
    "# 리스트 각 요소 출력하기\n",
    "for idx in range(N):\n",
    "    print(input_list[idx])"
   ]
  },
  {
   "cell_type": "markdown",
   "metadata": {},
   "source": [
    "# 풀이법\n",
    "- 1) 선택 정렬 알고리즘으로 문제해결하기 -> 시간복잡도: O(n^2)\n",
    "- 2) 파이썬의 기본 정렬 라이브러리로 문제해결하기 -> 시간복잡도: O(n log(n))"
   ]
  },
  {
   "cell_type": "code",
   "execution_count": null,
   "metadata": {},
   "outputs": [],
   "source": [
    "# 1) 선택 정렬 알고리즘 활용 (140ms)\n",
    "\n",
    "n = int(input())\n",
    "array = list()\n",
    "\n",
    "for _ in range(n):\n",
    "    array.append(int(input()))\n",
    "    \n",
    "    \n",
    "# 선택 정렬    \n",
    "for i in range(n):\n",
    "    min_index = i # 매번 index 재설정\n",
    "    \n",
    "    for j in range(i+1, n):\n",
    "        if array[min_index] > array[j]: # 지금 값이 더 작다면\n",
    "            min_index = j # index 값 치환\n",
    "        array[i], array[min_index] = array[min_index], array[i] # swap\n",
    "\n",
    "        \n",
    "for elem in array:\n",
    "    print(elem)"
   ]
  },
  {
   "cell_type": "code",
   "execution_count": null,
   "metadata": {},
   "outputs": [],
   "source": []
  },
  {
   "cell_type": "markdown",
   "metadata": {},
   "source": [
    "# 백준 1427번: 소트인사이드"
   ]
  },
  {
   "cell_type": "code",
   "execution_count": 43,
   "metadata": {},
   "outputs": [
    {
     "name": "stdout",
     "output_type": "stream",
     "text": [
      "2143\n",
      "4321\n"
     ]
    }
   ],
   "source": [
    "# 첫 시도 (성공) - 72ms\n",
    "\n",
    "N = int(input())\n",
    "\n",
    "N_string = str(N)\n",
    "length = len(N_string)\n",
    "\n",
    "N_array = []\n",
    "for elem in N_string:\n",
    "    N_array.append(int(elem))\n",
    "\n",
    "\n",
    "    \n",
    "# 내림차순 정렬\n",
    "N_array.sort(reverse=True)\n",
    "\n",
    "\n",
    "answer = 0\n",
    "# 출력\n",
    "for idx in range(length):\n",
    "    answer += 10**(idx) * N_array[length-1-idx]\n",
    "    \n",
    "print(answer)"
   ]
  },
  {
   "cell_type": "code",
   "execution_count": 44,
   "metadata": {},
   "outputs": [
    {
     "name": "stdout",
     "output_type": "stream",
     "text": [
      "988297\n",
      "998872"
     ]
    }
   ],
   "source": [
    "# 정답 답안 - 68ms\n",
    "array = input() # String으로 input값 바로 읽어들임\n",
    "\n",
    "for i in range(9, -1, -1): # 9부터 0까지 반복 !\n",
    "    for j in array:\n",
    "        if int(j) == i:\n",
    "            print(i, end='') # 붙여서 문자열로 출력"
   ]
  },
  {
   "cell_type": "code",
   "execution_count": null,
   "metadata": {},
   "outputs": [],
   "source": []
  }
 ],
 "metadata": {
  "kernelspec": {
   "display_name": "Python 3",
   "language": "python",
   "name": "python3"
  },
  "language_info": {
   "codemirror_mode": {
    "name": "ipython",
    "version": 3
   },
   "file_extension": ".py",
   "mimetype": "text/x-python",
   "name": "python",
   "nbconvert_exporter": "python",
   "pygments_lexer": "ipython3",
   "version": "3.8.3"
  }
 },
 "nbformat": 4,
 "nbformat_minor": 4
}
