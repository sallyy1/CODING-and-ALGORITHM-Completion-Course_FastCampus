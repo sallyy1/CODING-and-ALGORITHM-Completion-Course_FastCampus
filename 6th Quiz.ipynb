{
 "cells": [
  {
   "cell_type": "markdown",
   "metadata": {},
   "source": [
    "# 1번\n",
    "- b\n",
    "- 힙의 시간복잡도는 O($log_2{n}$)"
   ]
  },
  {
   "cell_type": "markdown",
   "metadata": {},
   "source": [
    "# 2번\n",
    "- e"
   ]
  },
  {
   "cell_type": "markdown",
   "metadata": {},
   "source": [
    "# 3번\n",
    "- 가변 공간"
   ]
  },
  {
   "cell_type": "markdown",
   "metadata": {},
   "source": [
    "# 4번\n",
    "- 버블 정렬"
   ]
  },
  {
   "cell_type": "markdown",
   "metadata": {},
   "source": [
    "# 5번\n",
    "- c\n",
    "- 최적의 구조를 갖춘 이진 탐색 트리의 탐색은 O(logN)의 시간복잡도를 가진다.\n",
    "- 최악의 경우엔, O(N). (배열과 같음)"
   ]
  },
  {
   "cell_type": "markdown",
   "metadata": {},
   "source": [
    "# 6번\n",
    "- d"
   ]
  },
  {
   "cell_type": "markdown",
   "metadata": {},
   "source": [
    "# 7번\n",
    "- 선택 정렬"
   ]
  },
  {
   "cell_type": "code",
   "execution_count": 8,
   "metadata": {},
   "outputs": [
    {
     "name": "stdout",
     "output_type": "stream",
     "text": [
      "tCampu\n"
     ]
    }
   ],
   "source": [
    "# 8번\n",
    "mystr = 'FastCampus'\n",
    "a = 3 #양수\n",
    "b = -1 #음수\n",
    "res = mystr[a:b]\n",
    "print(res)"
   ]
  },
  {
   "cell_type": "markdown",
   "metadata": {},
   "source": [
    "# 9번\n",
    "- d"
   ]
  },
  {
   "cell_type": "markdown",
   "metadata": {},
   "source": [
    "# 버블 정렬, 선택 정렬, 삽입 정렬\n",
    "- 모두 공간 복잡도는 O(1)\n",
    "-  모두 시간 복잡도는 O( 𝑛2)"
   ]
  },
  {
   "cell_type": "markdown",
   "metadata": {},
   "source": [
    "# 10번\n",
    "- a. -> head 만들어주기? => O(1)?\n",
    "- b. -> 충돌 없이 구현하면 O(1), 충돌 고려해 구현하면 O(n)?\n",
    "- c. -> O(1)\n",
    "- d. -> O(n)?\n",
    "\n",
    "- d?"
   ]
  },
  {
   "cell_type": "code",
   "execution_count": null,
   "metadata": {},
   "outputs": [],
   "source": []
  }
 ],
 "metadata": {
  "kernelspec": {
   "display_name": "Python 3",
   "language": "python",
   "name": "python3"
  },
  "language_info": {
   "codemirror_mode": {
    "name": "ipython",
    "version": 3
   },
   "file_extension": ".py",
   "mimetype": "text/x-python",
   "name": "python",
   "nbconvert_exporter": "python",
   "pygments_lexer": "ipython3",
   "version": "3.8.3"
  }
 },
 "nbformat": 4,
 "nbformat_minor": 4
}
